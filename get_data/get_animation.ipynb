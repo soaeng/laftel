{
 "cells": [
  {
   "cell_type": "markdown",
   "id": "d731ffc5",
   "metadata": {},
   "source": [
    "# 📌 애니메이션 목록 불러오기"
   ]
  },
  {
   "cell_type": "code",
   "execution_count": null,
   "id": "7e0f67f7",
   "metadata": {},
   "outputs": [],
   "source": [
    "import dotenv\n",
    "import os\n",
    "import pymongo\n",
    "import requests\n",
    "import json"
   ]
  },
  {
   "cell_type": "code",
   "execution_count": null,
   "id": "05ac7203",
   "metadata": {},
   "outputs": [],
   "source": [
    "# 애니메이션 정보 가져오기\n",
    "def get_animation():\n",
    "  # request url\n",
    "  laftel_api = \"https://laftel.net/api/search/v1/discover/\"\n",
    "\n",
    "  # required header\n",
    "  header = {\"laftel\": \"TeJava\"}\n",
    "  \n",
    "  # 애니메이션 목록 저장 리스트\n",
    "  ani_list = []\n",
    "  \n",
    "  # next가 없을 때까지 api 호출\n",
    "  while(True):\n",
    "    response = requests.get(url=laftel_api, headers=header)\n",
    "    \n",
    "    # 가져온 결과 저장\n",
    "    result = response.json()\n",
    "    \n",
    "    # 가져온 애니메이션 총 수\n",
    "    count = result[\"count\"]\n",
    "    \n",
    "    # 애니메이션 상세 정보\n",
    "    results = result[\"results\"]\n",
    "    \n",
    "    # 애니메이션 목록 저장\n",
    "    ani_list.append(results)  \n",
    "    \n",
    "    # 다음 정보 가져오는 api\n",
    "    next = result[\"next\"]\n",
    "    \n",
    "    # 다음 가져올 데이터가 있다면 api 호출\n",
    "    if (next is not None):\n",
    "      laftel_api = next\n",
    "    else:\n",
    "      break\n",
    "  \n",
    "  return ani_list\n",
    "\n",
    "ani_list = get_animation()\n",
    "\n",
    "print(\"애니메이션 목록 불러오기 완료\")"
   ]
  },
  {
   "cell_type": "code",
   "execution_count": null,
   "id": "afa9636b",
   "metadata": {},
   "outputs": [],
   "source": [
    "# 애니메이션 정보 DB에 저장\n",
    "def save_animation(data):\n",
    "        \n",
    "  # 환경변수 불러오기\n",
    "  dotenv.load_dotenv(dotenv.find_dotenv())\n",
    "  user = os.environ[\"MONGODB_USER\"] # MongoDB user\n",
    "  password = os.environ[\"MONGODB_PW\"] # MongoDB password\n",
    "    \n",
    "  # DB 연결\n",
    "  conn = pymongo.MongoClient(\"localhost\", 27017)\n",
    "#   conn = pymongo.MongoClient(\"mongodb://\" + user + \":\" + password + \"@j7e104.p.ssafy.io\", 27017)\n",
    "  db = conn.test\n",
    "  dbcol_ani = db.animation\n",
    "  \n",
    "  # data: [[20개의 애니상세목록], [20개의 애니상세 목록]...]\n",
    "  for unit in data: # unit: 20개의 애니 상세 목록\n",
    "    for u in unit: # u: 애니 상세 정보\n",
    "#       dbcol_ani.insert_one(u) # DB에 삽입\n",
    "      dbcol_ani.update_one({\"id\": u[\"id\"]}, {\"$set\": u }, upsert = True) # 있으면 수정, 없으면 삽입\n",
    "\n",
    "save_animation(ani_list)\n",
    "\n",
    "print(\"애니메이션 정보 저장 완료\")"
   ]
  }
 ],
 "metadata": {
  "kernelspec": {
   "display_name": "Python 3 (ipykernel)",
   "language": "python",
   "name": "python3"
  },
  "language_info": {
   "codemirror_mode": {
    "name": "ipython",
    "version": 3
   },
   "file_extension": ".py",
   "mimetype": "text/x-python",
   "name": "python",
   "nbconvert_exporter": "python",
   "pygments_lexer": "ipython3",
   "version": "3.9.12"
  }
 },
 "nbformat": 4,
 "nbformat_minor": 5
}

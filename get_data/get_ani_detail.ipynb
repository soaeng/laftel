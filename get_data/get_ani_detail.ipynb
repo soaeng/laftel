{
 "cells": [
  {
   "cell_type": "markdown",
   "id": "9a4f1863",
   "metadata": {},
   "source": [
    "# 📌 애니메이션 상세 정보 조회"
   ]
  },
  {
   "cell_type": "code",
   "execution_count": null,
   "id": "5cd6b028",
   "metadata": {},
   "outputs": [],
   "source": [
    "import dotenv\n",
    "import os\n",
    "import pymongo\n",
    "import requests\n",
    "import json\n",
    "import pandas as pd"
   ]
  },
  {
   "cell_type": "markdown",
   "id": "fb0a5300",
   "metadata": {},
   "source": [
    "### ✏️ 애니메이션 상세 정보 조회"
   ]
  },
  {
   "cell_type": "code",
   "execution_count": null,
   "id": "a66c72c8",
   "metadata": {},
   "outputs": [],
   "source": [
    "# 애니메이션 정보 가져오기\n",
    "def get_animation_detail(data):\n",
    "\n",
    "    animation = data[\"id\"]\n",
    "\n",
    "    # request url\n",
    "    laftel_api = \"https://laftel.net/api/items/v2/\" + str(animation)\n",
    "\n",
    "    # required header\n",
    "    header = {\"laftel\": \"TeJava\"}\n",
    "\n",
    "    response = requests.get(url=laftel_api, headers=header)\n",
    "\n",
    "    # 가져온 결과 저장\n",
    "    result = response.json()\n",
    "\n",
    "    # 애니메이션 상세 정보 저장\n",
    "    #     print(result)\n",
    "    dbcol_detail.update_one({\"id\": animation}, {\"$set\": result}, upsert = True)\n",
    "    \n",
    "# 환경변수 불러오기\n",
    "dotenv.load_dotenv(dotenv.find_dotenv())\n",
    "USER = os.environ[\"MONGODB_USER\"] # MongoDB user\n",
    "PASSWORD = os.environ[\"MONGODB_PW\"] # MongoDB password\n",
    "PORT = int(os.environ[\"MONGODB_PORT\"]) # MongoDB port\n",
    "\n",
    "# DB 연결\n",
    "# conn = pymongo.MongoClient(\"localhost\", 27017)\n",
    "conn = pymongo.MongoClient(\"mongodb://\" + USER + \":\" + PASSWORD + \"@j7e104.p.ssafy.io\", PORT)\n",
    "db = conn.test\n",
    "dbcol_ani = db.animation\n",
    "dbcol_detail = db.ani_detail\n",
    "\n",
    "df = pd.DataFrame(list(dbcol_ani.find({},{\"id\":1})))\n",
    "# df.apply(get_animation_detail, axis = 1)\n",
    "\n",
    "print(\"애니메이션 상세 정보 저장 완료\")"
   ]
  },
  {
   "cell_type": "markdown",
   "id": "b2e81b62",
   "metadata": {},
   "source": [
    "### ✏️ 데이터 프레임에서 특정 열만 추출, 리스트로 변환"
   ]
  },
  {
   "cell_type": "code",
   "execution_count": null,
   "id": "8e2501fc",
   "metadata": {},
   "outputs": [],
   "source": [
    "conn = pymongo.MongoClient(\"mongodb://\" + USER + \":\" + PASSWORD + \"@j7e104.p.ssafy.io\", PORT)\n",
    "db = conn.test\n",
    "dbcol_detail = db.ani_detail\n",
    "\n",
    "df = pd.DataFrame(list(dbcol_detail.find({},{\"name\": 1, \"content\": 1})))\n",
    "name_list = df[\"name\"].to_list() # df에서 name 필드 값만 리스트로\n",
    "content_list = df[\"content\"].to_list()[:10] # 10개만 가져옴\n",
    "print(content_list)"
   ]
  }
 ],
 "metadata": {
  "kernelspec": {
   "display_name": "Python 3.9.10 64-bit",
   "language": "python",
   "name": "python3"
  },
  "language_info": {
   "codemirror_mode": {
    "name": "ipython",
    "version": 3
   },
   "file_extension": ".py",
   "mimetype": "text/x-python",
   "name": "python",
   "nbconvert_exporter": "python",
   "pygments_lexer": "ipython3",
   "version": "3.9.10"
  },
  "vscode": {
   "interpreter": {
    "hash": "cba269781ba7a5c576b237f531bd7e59fbb79f5acfbac3c1e10df31feba4ea08"
   }
  }
 },
 "nbformat": 4,
 "nbformat_minor": 5
}

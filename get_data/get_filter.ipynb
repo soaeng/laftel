{
 "cells": [
  {
   "cell_type": "markdown",
   "id": "776dbd5d",
   "metadata": {},
   "source": [
    "# 📌 검색 필터 정보 저장"
   ]
  },
  {
   "cell_type": "code",
   "execution_count": 1,
   "id": "bb833180",
   "metadata": {},
   "outputs": [],
   "source": [
    "import dotenv\n",
    "import os\n",
    "import pymongo\n",
    "import requests\n",
    "import json"
   ]
  },
  {
   "cell_type": "code",
   "execution_count": null,
   "id": "6966c5f6",
   "metadata": {},
   "outputs": [],
   "source": [
    "def get_filter():\n",
    "    # request url\n",
    "    laftel_api = \"https://laftel.net/api/v1.0/info/discover/\"\n",
    "\n",
    "    # required header\n",
    "    header = {\"laftel\": \"TeJava\"}\n",
    "\n",
    "    response = requests.get(url = laftel_api, headers=header)\n",
    "    result = response.json()\n",
    "    result[\"years\"] = result[\"years\"][\"animation\"]\n",
    "\n",
    "    save_filter(result)\n",
    "  \n",
    "def save_filter(data):\n",
    "          \n",
    "    # 환경변수 불러오기\n",
    "    dotenv.load_dotenv(dotenv.find_dotenv())\n",
    "    USER = os.environ[\"MONGODB_USER\"] # MongoDB user\n",
    "    PASSWORD = os.environ[\"MONGODB_PW\"] # MongoDB password\n",
    "    PORT = int(os.environ[\"MONGODB_PORT\"]) # MongoDB port\n",
    "    \n",
    "    conn = pymongo.MongoClient(\"mongodb://\" + USER + \":\" + PASSWORD + \"@j7e104.p.ssafy.io\", PORT)\n",
    "    db = conn.test\n",
    "    dbcol_filter = db.filter\n",
    "    \n",
    "    # DB 저장\n",
    "    dbcol_filter.insert_one(data)\n",
    "\n",
    "get_filter()\n"
   ]
  }
 ],
 "metadata": {
  "kernelspec": {
   "display_name": "Python 3 (ipykernel)",
   "language": "python",
   "name": "python3"
  },
  "language_info": {
   "codemirror_mode": {
    "name": "ipython",
    "version": 3
   },
   "file_extension": ".py",
   "mimetype": "text/x-python",
   "name": "python",
   "nbconvert_exporter": "python",
   "pygments_lexer": "ipython3",
   "version": "3.9.12"
  }
 },
 "nbformat": 4,
 "nbformat_minor": 5
}

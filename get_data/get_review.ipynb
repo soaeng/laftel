{
 "cells": [
  {
   "cell_type": "markdown",
   "id": "335947d2",
   "metadata": {},
   "source": [
    "# 📌 리뷰 데이터 저장"
   ]
  },
  {
   "cell_type": "code",
   "execution_count": 19,
   "id": "ccb6fd4e",
   "metadata": {
    "scrolled": true
   },
   "outputs": [],
   "source": [
    "import dotenv\n",
    "import os\n",
    "import requests\n",
    "import json\n",
    "import pymongo\n",
    "import pandas as pd"
   ]
  },
  {
   "cell_type": "code",
   "execution_count": null,
   "id": "3258f0a5",
   "metadata": {
    "scrolled": true
   },
   "outputs": [],
   "source": [
    "# 애니메이션별 리뷰 목록 불러오기\n",
    "def get_reviews(data):\n",
    "    \n",
    "    # 조회할 애니메이션 번호\n",
    "    animation = data[\"id\"]\n",
    "\n",
    "    laftel_api = \"https://laftel.net/api/reviews/v2/list/?item_id=\" + str(animation)\n",
    "\n",
    "    # 헤더에 지정해줘야 조회 가능\n",
    "    header = {\"laftel\": \"TeJava\"}\n",
    "\n",
    "    # 다음 데이터 불러올 api\n",
    "    next = \"\"\n",
    "\n",
    "    # 받아온 리뷰 데이터 저장\n",
    "    review_list = []\n",
    "\n",
    "    # next가 없을 때까지 api 호출해서 결과 저장\n",
    "    while(True):\n",
    "      response = requests.get(url=laftel_api, headers=header)\n",
    "      json = response.json()\n",
    "      results = json[\"results\"]\n",
    "\n",
    "      # 리뷰 내용만 가져오기\n",
    "      for result in results:\n",
    "        result[\"animation\"] = animation\n",
    "        review_list.append(result)\n",
    "\n",
    "      next = json[\"next\"]\n",
    "\n",
    "      # 다음 가져올 데이터가 있다면 api 호출\n",
    "      if (next is not None):\n",
    "        laftel_api = next\n",
    "      else:\n",
    "        break\n",
    "\n",
    "\n",
    "    # 애니메이션 번호-리뷰리스트 저장\n",
    "    for r in review_list:\n",
    "        dbcol_review.insert_one(r)\n",
    "        \n",
    "    # 완료된 애니메이션 -> 체크\n",
    "    dbcol_ani.update_one({\"id\": animation}, {\"$set\": {\"check\": 1}})\n",
    "    print(data[\"name\"] + \"- 완료\")\n",
    "    \n",
    "# 환경변수 불러오기\n",
    "dotenv.load_dotenv(dotenv.find_dotenv())\n",
    "USER = os.environ[\"MONGODB_USER\"] # MongoDB user\n",
    "PASSWORD = os.environ[\"MONGODB_PW\"] # MongoDB password\n",
    "PORT = int(os.environ[\"MONGODB_PORT\"]) # MongoDB port\n",
    "\n",
    "# DB 연결\n",
    "# conn = pymongo.MongoClient()\n",
    "conn = pymongo.MongoClient(\"mongodb://\" + USER + \":\" + PASSWORD + \"@j7e104.p.ssafy.io\", PORT)\n",
    "db = conn.test\n",
    "dbcol_ani = db.animation\n",
    "dbcol_review = db.review\n",
    "\n",
    "# 체크 안한 애니메이션만 불러오기\n",
    "df = pd.DataFrame(list(dbcol_ani.find({\"$or\": [{\"check\": {\"$exists\": False}}, {\"check\": {\"$eq\": 0}}]})))\n",
    "\n",
    "df.apply(get_reviews, axis=1)\n"
   ]
  }
 ],
 "metadata": {
  "kernelspec": {
   "display_name": "Python 3 (ipykernel)",
   "language": "python",
   "name": "python3"
  },
  "language_info": {
   "codemirror_mode": {
    "name": "ipython",
    "version": 3
   },
   "file_extension": ".py",
   "mimetype": "text/x-python",
   "name": "python",
   "nbconvert_exporter": "python",
   "pygments_lexer": "ipython3",
   "version": "3.9.12"
  }
 },
 "nbformat": 4,
 "nbformat_minor": 5
}
